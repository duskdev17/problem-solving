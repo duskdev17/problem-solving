{
  "nbformat": 4,
  "nbformat_minor": 0,
  "metadata": {
    "colab": {
      "provenance": [],
      "collapsed_sections": []
    },
    "kernelspec": {
      "name": "python3",
      "display_name": "Python 3"
    },
    "language_info": {
      "name": "python"
    }
  },
  "cells": [
    {
      "cell_type": "markdown",
      "source": [
        "# AI Lab - \n",
        "`minimax` algorithm implementation: binary tree"
      ],
      "metadata": {
        "id": "w0rxqlk9r1DT"
      }
    },
    {
      "cell_type": "markdown",
      "source": [
        "1. First we create a tree"
      ],
      "metadata": {
        "id": "vdMu-DO0sJfD"
      }
    },
    {
      "cell_type": "code",
      "execution_count": null,
      "metadata": {
        "id": "8AwQpGFFrrnC"
      },
      "outputs": [],
      "source": [
        "import math\n",
        "\n",
        "class Node:\n",
        "    def __init__(self, value):\n",
        "        self.value = value\n",
        "        self.left = None\n",
        "        self.right = None\n",
        "        self.alpha = float('inf')\n",
        "        self.beta = float('inf')\n",
        "\n",
        "    def insert(self, value):\n",
        "        if self.value:\n",
        "            if value < self.value:\n",
        "                if self.left is None:\n",
        "                    self.left = Node(value)\n",
        "                else:\n",
        "                    self.left.insert(value)\n",
        "            else:\n",
        "                if self.right is None:\n",
        "                    self.right = Node(value)\n",
        "                else:\n",
        "                    self.right.insert(value)\n",
        "        else:\n",
        "            self.value = value\n"
      ]
    },
    {
      "cell_type": "markdown",
      "source": [
        "2. Implementation using tree"
      ],
      "metadata": {
        "id": "jL2PlU8SsVxJ"
      }
    },
    {
      "cell_type": "code",
      "source": [
        "def minimaxTree(isMax, tree):\n",
        "    if tree.right == None and tree.left == None:\n",
        "        return tree.value\n",
        "    \n",
        "    if isMax:\n",
        "        v = max(\n",
        "            minimaxTree(False, tree.left) if tree.left is not None else float('-inf'),\n",
        "            minimaxTree(False, tree.right) if tree.right is not None  else float('-inf')\n",
        "        )\n",
        "        return v\n",
        "    else:\n",
        "        v = min(\n",
        "            minimaxTree(True,tree.left) if tree.left is not None else float('inf'),\n",
        "            minimaxTree(True, tree.right) if tree.right is not None else float('inf')\n",
        "        )\n",
        "        return v\n"
      ],
      "metadata": {
        "id": "15mv4OcLsXMP"
      },
      "execution_count": null,
      "outputs": []
    },
    {
      "cell_type": "markdown",
      "source": [
        "3. Build the input tree, from bottom up"
      ],
      "metadata": {
        "id": "7HrOAAUbssrV"
      }
    },
    {
      "cell_type": "code",
      "source": [
        "# t_X -> terminal node x\n",
        "t_1 = Node(3)\n",
        "t_2 = Node(5)\n",
        "t_3 = Node(2)\n",
        "t_4 = Node(9)\n",
        "t_5 = Node(12)\n",
        "t_6 = Node(5)\n",
        "t_7 = Node(23)\n",
        "t_8 = Node(23)\n",
        "\n",
        "root = Node(float('inf'))\n",
        "\n",
        "# l_X_Y -> \n",
        "#         X: Level\n",
        "#         Y: Node/Leaf\n",
        "l_1_1 = Node(float('inf'))\n",
        "l_1_2 = Node(float('inf'))\n",
        "\n",
        "l_2_1 = Node(float('-inf'))\n",
        "l_2_2 = Node(float('-inf'))\n",
        "l_2_3 = Node(float('-inf'))\n",
        "l_2_4 = Node(float('-inf'))\n",
        "\n",
        "# link nodes to parent\n",
        "l_1_1.left = l_2_1\n",
        "l_1_1.right = l_2_2\n",
        "l_1_2.left = l_2_3\n",
        "l_1_2.right = l_2_4\n",
        "l_2_1.left = t_1\n",
        "l_2_1.right = t_2\n",
        "l_2_2.left = t_3\n",
        "l_2_2.right = t_4\n",
        "l_2_3.left = t_5\n",
        "l_2_3.right = t_6\n",
        "l_2_4.left = t_7\n",
        "l_2_4.right = t_8\n",
        "\n",
        "#link root\n",
        "root.left = l_1_1\n",
        "root.right = l_1_2\n",
        "\n",
        "\n",
        "#run \n",
        "print('#'*20)\n",
        "print('the optimal value is: {}'.format(minimaxTree(True, root)))\n",
        "print('#'*20)"
      ],
      "metadata": {
        "colab": {
          "base_uri": "https://localhost:8080/"
        },
        "id": "6SD4j8ultChy",
        "outputId": "2177ec07-c0dd-4b2d-ca03-7bf37b1d5035"
      },
      "execution_count": null,
      "outputs": [
        {
          "output_type": "stream",
          "name": "stdout",
          "text": [
            "####################\n",
            "the optimal value is: 12\n",
            "####################\n"
          ]
        }
      ]
    }
  ]
}