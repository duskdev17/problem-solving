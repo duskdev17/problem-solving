{
  "nbformat": 4,
  "nbformat_minor": 0,
  "metadata": {
    "colab": {
      "name": "basics.ipynb",
      "provenance": [],
      "collapsed_sections": []
    },
    "kernelspec": {
      "name": "python3",
      "display_name": "Python 3"
    },
    "language_info": {
      "name": "python"
    }
  },
  "cells": [
    {
      "cell_type": "code",
      "execution_count": null,
      "metadata": {
        "colab": {
          "base_uri": "https://localhost:8080/"
        },
        "id": "0HJRkDQwPojt",
        "outputId": "bd7b17cc-0e37-4194-c363-08b7886d5a90"
      },
      "outputs": [
        {
          "output_type": "stream",
          "name": "stdout",
          "text": [
            "10 3.92 Hi\n"
          ]
        }
      ],
      "source": [
        "var_int = 10\n",
        "var_float = 3.92\n",
        "var_string = \"Hi\"\n",
        "print(var_int, var_float, var_string)"
      ]
    },
    {
      "cell_type": "code",
      "source": [
        "list = [\"I\", \"Love\", \"Python\"]\n",
        "\n",
        "for i in list:\n",
        "  print(i)"
      ],
      "metadata": {
        "colab": {
          "base_uri": "https://localhost:8080/"
        },
        "id": "qN7wNgt-Qxwt",
        "outputId": "c48ee56e-bc6d-4c8a-fa98-96137a7153fe"
      },
      "execution_count": null,
      "outputs": [
        {
          "output_type": "stream",
          "name": "stdout",
          "text": [
            "I\n",
            "Love\n",
            "Python\n"
          ]
        }
      ]
    },
    {
      "cell_type": "code",
      "source": [
        "var1 = 5+4**3\n",
        "var2 = \"Python\" * 3\n",
        "remainder = 41%3\n",
        "print(var1)\n",
        "print(var2)\n",
        "print(remainder)"
      ],
      "metadata": {
        "colab": {
          "base_uri": "https://localhost:8080/"
        },
        "id": "jzXfG1lESvlK",
        "outputId": "d250f262-4ed4-4d81-ee25-49cdb7c1f4d0"
      },
      "execution_count": null,
      "outputs": [
        {
          "output_type": "stream",
          "name": "stdout",
          "text": [
            "69\n",
            "PythonPythonPython\n",
            "2\n"
          ]
        }
      ]
    },
    {
      "cell_type": "code",
      "source": [
        "x = 'looked'\n",
        " \n",
        "print(\"I %s at the topics and %s it\"%(x, \"coded\"))"
      ],
      "metadata": {
        "colab": {
          "base_uri": "https://localhost:8080/"
        },
        "id": "bwswNMRJULsk",
        "outputId": "3a8e75f6-acff-4646-a813-fc66634dfe18"
      },
      "execution_count": null,
      "outputs": [
        {
          "output_type": "stream",
          "name": "stdout",
          "text": [
            "I looked at the topics and coded it\n"
          ]
        }
      ]
    },
    {
      "cell_type": "code",
      "source": [
        "var_string = \"Python is awesome\"\n",
        "print(var_string.count(\"o\"))\n",
        "print(var_string[7:18])\n",
        "print(var_string.lower())"
      ],
      "metadata": {
        "colab": {
          "base_uri": "https://localhost:8080/"
        },
        "id": "qAhokeu5WBFR",
        "outputId": "f9ffa8f8-7755-41da-daba-daf774a4d8d7"
      },
      "execution_count": null,
      "outputs": [
        {
          "output_type": "stream",
          "name": "stdout",
          "text": [
            "2\n",
            "is awesome\n",
            "python is awesome\n"
          ]
        }
      ]
    },
    {
      "cell_type": "code",
      "source": [
        "age = 12\n",
        "\n",
        "if age>=12:\n",
        "  print(\"You are allowed\")\n",
        "else:\n",
        "  print(\"You are not allowed\")"
      ],
      "metadata": {
        "colab": {
          "base_uri": "https://localhost:8080/"
        },
        "id": "0Df3c_trZUoI",
        "outputId": "a8d33a3b-e0c5-4c2c-a504-a7a534d1a088"
      },
      "execution_count": null,
      "outputs": [
        {
          "output_type": "stream",
          "name": "stdout",
          "text": [
            "You are allowed\n"
          ]
        }
      ]
    },
    {
      "cell_type": "code",
      "source": [
        "myList = [\"hello\", \"python\", \"world\"]\n",
        "for i in myList:\n",
        "  print(i)\n",
        "\n",
        "count = 0\n",
        "while count < 3:\n",
        "  print(count)\n",
        "  count = count+1"
      ],
      "metadata": {
        "colab": {
          "base_uri": "https://localhost:8080/"
        },
        "id": "oS9i9xONaQNl",
        "outputId": "97a61bfa-4236-40e1-d6f9-7c498be2c813"
      },
      "execution_count": null,
      "outputs": [
        {
          "output_type": "stream",
          "name": "stdout",
          "text": [
            "hello\n",
            "python\n",
            "world\n",
            "0\n",
            "1\n",
            "2\n"
          ]
        }
      ]
    },
    {
      "cell_type": "code",
      "source": [
        "def add_num(a, b):\n",
        "    return a + b\n",
        "\n",
        "def print_text():\n",
        "    print(\"This is a function!\")\n",
        "\n",
        "x = add_num(3, 4)\n",
        "print(x)\n",
        "print_text()"
      ],
      "metadata": {
        "colab": {
          "base_uri": "https://localhost:8080/"
        },
        "id": "Hkn_YtWPdjHn",
        "outputId": "597314f4-a629-45bb-d07b-df3ce0333cc0"
      },
      "execution_count": null,
      "outputs": [
        {
          "output_type": "stream",
          "name": "stdout",
          "text": [
            "7\n",
            "This is a function!\n"
          ]
        }
      ]
    },
    {
      "cell_type": "code",
      "source": [
        "class add:\n",
        "    def findsum(self, n1, n2):\n",
        "        sum = n1 + n2\n",
        "        return sum\n",
        "n1 = 100\n",
        "n2 = 50\n",
        "Obj = add()\n",
        "sum = Obj.findsum(n1, n2)\n",
        "print(\"The sum of two numbers is: \", sum)"
      ],
      "metadata": {
        "colab": {
          "base_uri": "https://localhost:8080/"
        },
        "id": "31IYDwxLpu3c",
        "outputId": "ef28a794-af39-4aca-dba2-d894521528e2"
      },
      "execution_count": null,
      "outputs": [
        {
          "output_type": "stream",
          "name": "stdout",
          "text": [
            "The sum of two numbers is:  150\n"
          ]
        }
      ]
    },
    {
      "cell_type": "code",
      "source": [
        "phonebook = {\"Anik\" : 123,\"Sumi\" : 321,\"Jannat\" : 312}\n",
        "for name, number in phonebook.items():\n",
        "    print(\"Phone number of %s is %d\" % (name, number))"
      ],
      "metadata": {
        "colab": {
          "base_uri": "https://localhost:8080/"
        },
        "id": "u8drFdpzq62A",
        "outputId": "6ba7221c-0235-4452-ab03-d6651057fede"
      },
      "execution_count": null,
      "outputs": [
        {
          "output_type": "stream",
          "name": "stdout",
          "text": [
            "Phone number of Anik is 123\n",
            "Phone number of Sumi is 321\n",
            "Phone number of Jannat is 312\n"
          ]
        }
      ]
    },
    {
      "cell_type": "code",
      "source": [
        "import numpy as np\n",
        "\n",
        "arr = np.array([1, 2, 3, 4, 5])\n",
        "\n",
        "print(arr)\n",
        "print(type(arr))\n"
      ],
      "metadata": {
        "colab": {
          "base_uri": "https://localhost:8080/"
        },
        "id": "kY9Xy4d4shJd",
        "outputId": "451f887b-cad8-4e3d-84a6-419e468430dd"
      },
      "execution_count": null,
      "outputs": [
        {
          "output_type": "stream",
          "name": "stdout",
          "text": [
            "[1 2 3 4 5]\n",
            "<class 'numpy.ndarray'>\n"
          ]
        }
      ]
    }
  ]
}